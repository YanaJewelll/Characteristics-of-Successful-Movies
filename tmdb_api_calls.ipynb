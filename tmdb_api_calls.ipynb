{
 "cells": [
  {
   "cell_type": "code",
   "execution_count": 1,
   "id": "ce9db398-3f3b-47bb-8e26-bb09862ce493",
   "metadata": {},
   "outputs": [],
   "source": [
    "# Standard Imports\n",
    "import numpy as np\n",
    "import pandas as pd\n",
    "import matplotlib.pyplot as plt\n",
    "import seaborn as sns\n",
    "# Additional Imports\n",
    "import os, json, math, time\n",
    "from yelpapi import YelpAPI\n",
    "from tqdm.notebook import tqdm_notebook"
   ]
  },
  {
   "cell_type": "code",
   "execution_count": 2,
   "id": "a5299920-07db-4044-9594-cdcc5e1ca0ea",
   "metadata": {},
   "outputs": [
    {
     "name": "stdout",
     "output_type": "stream",
     "text": [
      "Requirement already satisfied: tmdbsimple in c:\\users\\user\\anaconda3\\envs\\dojo-env\\lib\\site-packages (2.9.1)\n",
      "Requirement already satisfied: requests in c:\\users\\user\\anaconda3\\envs\\dojo-env\\lib\\site-packages (from tmdbsimple) (2.29.0)\n",
      "Requirement already satisfied: charset-normalizer<4,>=2 in c:\\users\\user\\anaconda3\\envs\\dojo-env\\lib\\site-packages (from requests->tmdbsimple) (2.0.4)\n",
      "Requirement already satisfied: idna<4,>=2.5 in c:\\users\\user\\anaconda3\\envs\\dojo-env\\lib\\site-packages (from requests->tmdbsimple) (3.4)\n",
      "Requirement already satisfied: urllib3<1.27,>=1.21.1 in c:\\users\\user\\anaconda3\\envs\\dojo-env\\lib\\site-packages (from requests->tmdbsimple) (1.26.15)\n",
      "Requirement already satisfied: certifi>=2017.4.17 in c:\\users\\user\\anaconda3\\envs\\dojo-env\\lib\\site-packages (from requests->tmdbsimple) (2023.5.7)\n"
     ]
    }
   ],
   "source": [
    "# Install tmdbsimple (only need to run once)\n",
    "!pip install tmdbsimple "
   ]
  },
  {
   "cell_type": "code",
   "execution_count": 3,
   "id": "8904afa5-4931-444a-a539-27428dd5fed0",
   "metadata": {},
   "outputs": [
    {
     "data": {
      "text/plain": [
       "dict_keys(['api-key'])"
      ]
     },
     "execution_count": 3,
     "metadata": {},
     "output_type": "execute_result"
    }
   ],
   "source": [
    "# open the file\n",
    "with open('C:/Users/User/Documents/Characteristics-of-Successful-Movies/.secret/tmdb_api.json', 'r') as f:\n",
    "    login = json.load(f)\n",
    "## Display the keys of the loaded dict\n",
    "login.keys()"
   ]
  },
  {
   "cell_type": "code",
   "execution_count": 4,
   "id": "c5cba853-8bf5-4ab4-b563-983c9d21ce92",
   "metadata": {},
   "outputs": [],
   "source": [
    "# importing tmdb\n",
    "import tmdbsimple as tmdb\n",
    "tmdb.API_KEY =  login['api-key']"
   ]
  },
  {
   "cell_type": "code",
   "execution_count": 5,
   "id": "6fed8916-6d7e-40ae-99f9-d124eab797e9",
   "metadata": {},
   "outputs": [
    {
     "data": {
      "text/plain": [
       "50000000"
      ]
     },
     "execution_count": 5,
     "metadata": {},
     "output_type": "execute_result"
    }
   ],
   "source": [
    "movie = tmdb.Movies('tt1361336')\n",
    "info = movie.info()\n",
    "info['budget']"
   ]
  },
  {
   "cell_type": "code",
   "execution_count": 6,
   "id": "19520d65-7d59-4bea-96c4-ad70048c9604",
   "metadata": {},
   "outputs": [
    {
     "name": "stdout",
     "output_type": "stream",
     "text": [
      "PG\n",
      "PG\n",
      "PG\n"
     ]
    }
   ],
   "source": [
    "# example from package README\n",
    "# source = https://github.com/celiao/tmdbsimple\n",
    "releases = movie.releases()\n",
    "\n",
    "for c in releases['countries']:\n",
    "    if c['iso_3166_1'] == 'US':\n",
    "        print(c['certification'])"
   ]
  },
  {
   "cell_type": "code",
   "execution_count": 7,
   "id": "7f01c7bc-d328-4dc1-a59a-ddcbd21132fa",
   "metadata": {},
   "outputs": [],
   "source": [
    "# Get the movie object for the current id\n",
    "movie = tmdb.Movies('tt1361336')\n",
    "# save the .info .releases dictionaries\n",
    "info = movie.info()\n",
    "releases = movie.releases()\n",
    "# Loop through countries in releases\n",
    "for c in releases['countries']:\n",
    "    # if the country abbreviation==US\n",
    "    if c['iso_3166_1' ] =='US':\n",
    "        ## save a \"certification\" key in the info dict with the certification\n",
    "       info['certification'] = c['certification']"
   ]
  },
  {
   "cell_type": "code",
   "execution_count": 8,
   "id": "4cd3d819-d0d7-4e9c-88bc-07963d6529eb",
   "metadata": {},
   "outputs": [],
   "source": [
    "# import glob\n",
    "# # Use glob to get all filepaths that match the pattern (*=wildcard)\n",
    "# tmdb_files = sorted(glob.glob(\"Data/filtered_title_*.csv\"))\n",
    "# tmdb_files\n"
   ]
  },
  {
   "cell_type": "code",
   "execution_count": 9,
   "id": "df3cc0fd-d603-4030-ae88-036459534b75",
   "metadata": {},
   "outputs": [
    {
     "data": {
      "text/html": [
       "<div>\n",
       "<style scoped>\n",
       "    .dataframe tbody tr th:only-of-type {\n",
       "        vertical-align: middle;\n",
       "    }\n",
       "\n",
       "    .dataframe tbody tr th {\n",
       "        vertical-align: top;\n",
       "    }\n",
       "\n",
       "    .dataframe thead th {\n",
       "        text-align: right;\n",
       "    }\n",
       "</style>\n",
       "<table border=\"1\" class=\"dataframe\">\n",
       "  <thead>\n",
       "    <tr style=\"text-align: right;\">\n",
       "      <th></th>\n",
       "      <th>tconst</th>\n",
       "      <th>titleType</th>\n",
       "      <th>primaryTitle</th>\n",
       "      <th>originalTitle</th>\n",
       "      <th>isAdult</th>\n",
       "      <th>startYear</th>\n",
       "      <th>endYear</th>\n",
       "      <th>runtimeMinutes</th>\n",
       "      <th>genres\\r</th>\n",
       "      <th>averageRating</th>\n",
       "      <th>numVotes\\r</th>\n",
       "    </tr>\n",
       "  </thead>\n",
       "  <tbody>\n",
       "    <tr>\n",
       "      <th>0</th>\n",
       "      <td>tt0035423</td>\n",
       "      <td>movie</td>\n",
       "      <td>Kate &amp; Leopold</td>\n",
       "      <td>Kate &amp; Leopold</td>\n",
       "      <td>0.0</td>\n",
       "      <td>2001.0</td>\n",
       "      <td>NaN</td>\n",
       "      <td>118.0</td>\n",
       "      <td>Comedy,Fantasy,Romance\\r</td>\n",
       "      <td>NaN</td>\n",
       "      <td>NaN</td>\n",
       "    </tr>\n",
       "    <tr>\n",
       "      <th>1</th>\n",
       "      <td>tt0114447</td>\n",
       "      <td>movie</td>\n",
       "      <td>The Silent Force</td>\n",
       "      <td>The Silent Force</td>\n",
       "      <td>0.0</td>\n",
       "      <td>2001.0</td>\n",
       "      <td>NaN</td>\n",
       "      <td>90.0</td>\n",
       "      <td>Action\\r</td>\n",
       "      <td>NaN</td>\n",
       "      <td>NaN</td>\n",
       "    </tr>\n",
       "    <tr>\n",
       "      <th>2</th>\n",
       "      <td>tt0116916</td>\n",
       "      <td>movie</td>\n",
       "      <td>The Lord Protector</td>\n",
       "      <td>The Lord Protector</td>\n",
       "      <td>0.0</td>\n",
       "      <td>2001.0</td>\n",
       "      <td>NaN</td>\n",
       "      <td>101.0</td>\n",
       "      <td>Action,Adventure,Fantasy\\r</td>\n",
       "      <td>NaN</td>\n",
       "      <td>NaN</td>\n",
       "    </tr>\n",
       "    <tr>\n",
       "      <th>3</th>\n",
       "      <td>tt0118589</td>\n",
       "      <td>movie</td>\n",
       "      <td>Glitter</td>\n",
       "      <td>Glitter</td>\n",
       "      <td>0.0</td>\n",
       "      <td>2001.0</td>\n",
       "      <td>NaN</td>\n",
       "      <td>104.0</td>\n",
       "      <td>Drama,Music,Romance\\r</td>\n",
       "      <td>NaN</td>\n",
       "      <td>NaN</td>\n",
       "    </tr>\n",
       "    <tr>\n",
       "      <th>4</th>\n",
       "      <td>tt0118652</td>\n",
       "      <td>movie</td>\n",
       "      <td>The Attic Expeditions</td>\n",
       "      <td>The Attic Expeditions</td>\n",
       "      <td>0.0</td>\n",
       "      <td>2001.0</td>\n",
       "      <td>NaN</td>\n",
       "      <td>100.0</td>\n",
       "      <td>Comedy,Horror,Mystery\\r</td>\n",
       "      <td>NaN</td>\n",
       "      <td>NaN</td>\n",
       "    </tr>\n",
       "  </tbody>\n",
       "</table>\n",
       "</div>"
      ],
      "text/plain": [
       "      tconst titleType           primaryTitle          originalTitle  isAdult  \\\n",
       "0  tt0035423     movie         Kate & Leopold         Kate & Leopold      0.0   \n",
       "1  tt0114447     movie       The Silent Force       The Silent Force      0.0   \n",
       "2  tt0116916     movie     The Lord Protector     The Lord Protector      0.0   \n",
       "3  tt0118589     movie                Glitter                Glitter      0.0   \n",
       "4  tt0118652     movie  The Attic Expeditions  The Attic Expeditions      0.0   \n",
       "\n",
       "   startYear  endYear  runtimeMinutes                    genres\\r  \\\n",
       "0     2001.0      NaN           118.0    Comedy,Fantasy,Romance\\r   \n",
       "1     2001.0      NaN            90.0                    Action\\r   \n",
       "2     2001.0      NaN           101.0  Action,Adventure,Fantasy\\r   \n",
       "3     2001.0      NaN           104.0       Drama,Music,Romance\\r   \n",
       "4     2001.0      NaN           100.0     Comedy,Horror,Mystery\\r   \n",
       "\n",
       "   averageRating  numVotes\\r  \n",
       "0            NaN         NaN  \n",
       "1            NaN         NaN  \n",
       "2            NaN         NaN  \n",
       "3            NaN         NaN  \n",
       "4            NaN         NaN  "
      ]
     },
     "execution_count": 9,
     "metadata": {},
     "output_type": "execute_result"
    }
   ],
   "source": [
    "df_2001 = pd.read_csv('Data/tmdb_data_2001.csv')\n",
    "df_2001.head()"
   ]
  },
  {
   "cell_type": "code",
   "execution_count": 10,
   "id": "0af1569f-fbf1-49dc-b827-f0bb7857a2eb",
   "metadata": {},
   "outputs": [
    {
     "data": {
      "text/html": [
       "<div>\n",
       "<style scoped>\n",
       "    .dataframe tbody tr th:only-of-type {\n",
       "        vertical-align: middle;\n",
       "    }\n",
       "\n",
       "    .dataframe tbody tr th {\n",
       "        vertical-align: top;\n",
       "    }\n",
       "\n",
       "    .dataframe thead th {\n",
       "        text-align: right;\n",
       "    }\n",
       "</style>\n",
       "<table border=\"1\" class=\"dataframe\">\n",
       "  <thead>\n",
       "    <tr style=\"text-align: right;\">\n",
       "      <th></th>\n",
       "      <th>tconst</th>\n",
       "      <th>titleType</th>\n",
       "      <th>primaryTitle</th>\n",
       "      <th>originalTitle</th>\n",
       "      <th>isAdult</th>\n",
       "      <th>startYear</th>\n",
       "      <th>endYear</th>\n",
       "      <th>runtimeMinutes</th>\n",
       "      <th>genres\\r</th>\n",
       "      <th>averageRating</th>\n",
       "      <th>numVotes\\r</th>\n",
       "    </tr>\n",
       "  </thead>\n",
       "  <tbody>\n",
       "    <tr>\n",
       "      <th>0</th>\n",
       "      <td>tt0096056</td>\n",
       "      <td>movie</td>\n",
       "      <td>Crime and Punishment</td>\n",
       "      <td>Crime and Punishment</td>\n",
       "      <td>0.0</td>\n",
       "      <td>2002.0</td>\n",
       "      <td>NaN</td>\n",
       "      <td>126.0</td>\n",
       "      <td>Drama\\r</td>\n",
       "      <td>NaN</td>\n",
       "      <td>NaN</td>\n",
       "    </tr>\n",
       "    <tr>\n",
       "      <th>1</th>\n",
       "      <td>tt0118926</td>\n",
       "      <td>movie</td>\n",
       "      <td>The Dancer Upstairs</td>\n",
       "      <td>The Dancer Upstairs</td>\n",
       "      <td>0.0</td>\n",
       "      <td>2002.0</td>\n",
       "      <td>NaN</td>\n",
       "      <td>132.0</td>\n",
       "      <td>Crime,Drama,Thriller\\r</td>\n",
       "      <td>NaN</td>\n",
       "      <td>NaN</td>\n",
       "    </tr>\n",
       "    <tr>\n",
       "      <th>2</th>\n",
       "      <td>tt0119980</td>\n",
       "      <td>movie</td>\n",
       "      <td>Random Shooting in L.A.</td>\n",
       "      <td>Random Shooting in L.A.</td>\n",
       "      <td>0.0</td>\n",
       "      <td>2002.0</td>\n",
       "      <td>NaN</td>\n",
       "      <td>91.0</td>\n",
       "      <td>Drama\\r</td>\n",
       "      <td>NaN</td>\n",
       "      <td>NaN</td>\n",
       "    </tr>\n",
       "    <tr>\n",
       "      <th>3</th>\n",
       "      <td>tt0120679</td>\n",
       "      <td>movie</td>\n",
       "      <td>Frida</td>\n",
       "      <td>Frida</td>\n",
       "      <td>0.0</td>\n",
       "      <td>2002.0</td>\n",
       "      <td>NaN</td>\n",
       "      <td>123.0</td>\n",
       "      <td>Biography,Drama,Romance\\r</td>\n",
       "      <td>NaN</td>\n",
       "      <td>NaN</td>\n",
       "    </tr>\n",
       "    <tr>\n",
       "      <th>4</th>\n",
       "      <td>tt0120804</td>\n",
       "      <td>movie</td>\n",
       "      <td>Resident Evil</td>\n",
       "      <td>Resident Evil</td>\n",
       "      <td>0.0</td>\n",
       "      <td>2002.0</td>\n",
       "      <td>NaN</td>\n",
       "      <td>100.0</td>\n",
       "      <td>Action,Horror,Sci-Fi\\r</td>\n",
       "      <td>NaN</td>\n",
       "      <td>NaN</td>\n",
       "    </tr>\n",
       "  </tbody>\n",
       "</table>\n",
       "</div>"
      ],
      "text/plain": [
       "      tconst titleType             primaryTitle            originalTitle  \\\n",
       "0  tt0096056     movie     Crime and Punishment     Crime and Punishment   \n",
       "1  tt0118926     movie      The Dancer Upstairs      The Dancer Upstairs   \n",
       "2  tt0119980     movie  Random Shooting in L.A.  Random Shooting in L.A.   \n",
       "3  tt0120679     movie                    Frida                    Frida   \n",
       "4  tt0120804     movie            Resident Evil            Resident Evil   \n",
       "\n",
       "   isAdult  startYear  endYear  runtimeMinutes                   genres\\r  \\\n",
       "0      0.0     2002.0      NaN           126.0                    Drama\\r   \n",
       "1      0.0     2002.0      NaN           132.0     Crime,Drama,Thriller\\r   \n",
       "2      0.0     2002.0      NaN            91.0                    Drama\\r   \n",
       "3      0.0     2002.0      NaN           123.0  Biography,Drama,Romance\\r   \n",
       "4      0.0     2002.0      NaN           100.0     Action,Horror,Sci-Fi\\r   \n",
       "\n",
       "   averageRating  numVotes\\r  \n",
       "0            NaN         NaN  \n",
       "1            NaN         NaN  \n",
       "2            NaN         NaN  \n",
       "3            NaN         NaN  \n",
       "4            NaN         NaN  "
      ]
     },
     "execution_count": 10,
     "metadata": {},
     "output_type": "execute_result"
    }
   ],
   "source": [
    "df_2002 = pd.read_csv('Data/tmdb_data_2002.csv')\n",
    "df_2002.head()"
   ]
  },
  {
   "cell_type": "code",
   "execution_count": 11,
   "id": "5a8593a6-1760-4061-a019-ff31ef92cb68",
   "metadata": {},
   "outputs": [
    {
     "data": {
      "text/plain": [
       "0       tt0035423\n",
       "1       tt0114447\n",
       "2       tt0116916\n",
       "3       tt0118589\n",
       "4       tt0118652\n",
       "          ...    \n",
       "1571    tt9071078\n",
       "1572    tt9212730\n",
       "1573    tt9228234\n",
       "1574    tt9555974\n",
       "1575    tt9578462\n",
       "Name: tconst, Length: 1576, dtype: object"
      ]
     },
     "execution_count": 11,
     "metadata": {},
     "output_type": "execute_result"
    }
   ],
   "source": [
    "df_2001['tconst']"
   ]
  },
  {
   "cell_type": "code",
   "execution_count": 12,
   "id": "de8d2190-b458-461e-9ffa-a5dc926cd002",
   "metadata": {},
   "outputs": [],
   "source": [
    "# Get the movie object for the current id\n",
    "def get_movie_rating(movie_id):\n",
    "    movie = tmdb.Movies(movie_id)\n",
    "    # save the .info .releases dictionaries\n",
    "    info = movie.info()\n",
    "    releases = movie.releases()\n",
    "    budget = info['budget']\n",
    "    revenue = info['revenue']\n",
    "    # Loop through countries in releases\n",
    "    for c in releases['countries']:\n",
    "        ## save a \"certification\" key in the info dict with the certification\n",
    "        if c['iso_3166_1'] =='US':\n",
    "            info['certification'] = c['certification']\n",
    "\n",
    "    movie_data = {'movie_id' : movie_id, 'budget' : budget, 'revenue' : revenue, 'certification' : info['certification']}\n",
    "    return movie_data"
   ]
  },
  {
   "cell_type": "code",
   "execution_count": 13,
   "id": "f5584d5a-f842-4c91-9ce5-886aacbdab36",
   "metadata": {},
   "outputs": [
    {
     "data": {
      "text/html": [
       "<div>\n",
       "<style scoped>\n",
       "    .dataframe tbody tr th:only-of-type {\n",
       "        vertical-align: middle;\n",
       "    }\n",
       "\n",
       "    .dataframe tbody tr th {\n",
       "        vertical-align: top;\n",
       "    }\n",
       "\n",
       "    .dataframe thead th {\n",
       "        text-align: right;\n",
       "    }\n",
       "</style>\n",
       "<table border=\"1\" class=\"dataframe\">\n",
       "  <thead>\n",
       "    <tr style=\"text-align: right;\">\n",
       "      <th></th>\n",
       "      <th>movie_id</th>\n",
       "      <th>budget</th>\n",
       "      <th>revenue</th>\n",
       "      <th>certification</th>\n",
       "    </tr>\n",
       "  </thead>\n",
       "  <tbody>\n",
       "    <tr>\n",
       "      <th>0</th>\n",
       "      <td>tt0035423</td>\n",
       "      <td>48000000</td>\n",
       "      <td>76019048</td>\n",
       "      <td>PG-13</td>\n",
       "    </tr>\n",
       "    <tr>\n",
       "      <th>1</th>\n",
       "      <td>tt0116916</td>\n",
       "      <td>0</td>\n",
       "      <td>0</td>\n",
       "      <td>PG</td>\n",
       "    </tr>\n",
       "    <tr>\n",
       "      <th>2</th>\n",
       "      <td>tt0118589</td>\n",
       "      <td>22000000</td>\n",
       "      <td>5271666</td>\n",
       "      <td>PG-13</td>\n",
       "    </tr>\n",
       "    <tr>\n",
       "      <th>3</th>\n",
       "      <td>tt0118652</td>\n",
       "      <td>1000000</td>\n",
       "      <td>0</td>\n",
       "      <td>R</td>\n",
       "    </tr>\n",
       "    <tr>\n",
       "      <th>4</th>\n",
       "      <td>tt0120166</td>\n",
       "      <td>0</td>\n",
       "      <td>0</td>\n",
       "      <td>NR</td>\n",
       "    </tr>\n",
       "  </tbody>\n",
       "</table>\n",
       "</div>"
      ],
      "text/plain": [
       "    movie_id    budget   revenue certification\n",
       "0  tt0035423  48000000  76019048         PG-13\n",
       "1  tt0116916         0         0            PG\n",
       "2  tt0118589  22000000   5271666         PG-13\n",
       "3  tt0118652   1000000         0             R\n",
       "4  tt0120166         0         0            NR"
      ]
     },
     "execution_count": 13,
     "metadata": {},
     "output_type": "execute_result"
    }
   ],
   "source": [
    "# Using a try-except statement to catch and append the error message to a list\n",
    "movie_ids =  df_2001['tconst'].tolist() # ['tt0096056', 'tt0119980', 'tt0096071'] # ['tt0848228', 'tt0332280'] #\n",
    "results = []\n",
    "errors = []\n",
    "for movie_id in movie_ids:\n",
    "    \n",
    "    try:\n",
    "        movie_info = get_movie_rating(movie_id)\n",
    "        results.append(movie_info)\n",
    "        \n",
    "    except Exception as e: \n",
    "        errors.append([movie_id, e]) \n",
    "    \n",
    "financial_data_2001 = pd.DataFrame(results)\n",
    "financial_data_2001.head() \n"
   ]
  },
  {
   "cell_type": "code",
   "execution_count": 19,
   "id": "fc1fd24d-3d58-4764-96eb-00bbc5682e09",
   "metadata": {},
   "outputs": [],
   "source": [
    "# Save to CSV\n",
    "financial_data_2001.to_csv('Data/tmdb_data_2001.csv', index=False)"
   ]
  }
 ],
 "metadata": {
  "kernelspec": {
   "display_name": "Python 3 (ipykernel)",
   "language": "python",
   "name": "python3"
  },
  "language_info": {
   "codemirror_mode": {
    "name": "ipython",
    "version": 3
   },
   "file_extension": ".py",
   "mimetype": "text/x-python",
   "name": "python",
   "nbconvert_exporter": "python",
   "pygments_lexer": "ipython3",
   "version": "3.10.10"
  },
  "widgets": {
   "application/vnd.jupyter.widget-state+json": {
    "state": {},
    "version_major": 2,
    "version_minor": 0
   }
  }
 },
 "nbformat": 4,
 "nbformat_minor": 5
}
